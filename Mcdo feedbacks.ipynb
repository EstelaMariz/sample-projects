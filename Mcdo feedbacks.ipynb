{
 "cells": [
  {
   "cell_type": "code",
   "execution_count": 1,
   "metadata": {},
   "outputs": [],
   "source": [
    "import requests\n",
    "from pprint import pprint\n",
    "import pandas as pd\n",
    "import pymysql\n",
    "import numpy as np\n",
    "import matplotlib.pyplot as plt\n",
    "import seaborn as sns\n",
    "import uuid\n",
    "sns.set()\n",
    "%matplotlib inline"
   ]
  },
  {
   "cell_type": "code",
   "execution_count": 2,
   "metadata": {},
   "outputs": [],
   "source": [
    "db = pymysql.connect(host='localhost', user='root', database='admin_main', port = 3307, charset='utf8mb4', cursorclass=pymysql.cursors.DictCursor)\n",
    "\n",
    "# Create a cursor object\n",
    "cursorObject = db.cursor()\n",
    "\n",
    "feedback_Query = \"select * from feedbacks\"\n",
    "feedbackm_Query =  \"select * from feedback_meta\"\n",
    "feedbackcat_Query = \"select * from feedback_categories\"\n",
    "feedbackch_Query = \"select * from feedback_choices\"\n",
    "feedbackq_Query = \"select * from feedback_questions\"\n",
    "\n",
    "\n",
    "cursorObject.execute(feedback_Query)\n",
    "cursorObject.execute(feedbackm_Query)\n",
    "cursorObject.execute(feedbackcat_Query)\n",
    "cursorObject.execute(feedbackch_Query)\n",
    "cursorObject.execute(feedbackq_Query)\n",
    "\n",
    "feedback_df = pd.read_sql(feedback_Query, db)\n",
    "feedbackm_df = pd.read_sql(feedbackm_Query, db)\n",
    "feedbackcat_df = pd.read_sql(feedbackcat_Query, db)\n",
    "feedbackch_df = pd.read_sql(feedbackch_Query, db)\n",
    "feedbackq_df = pd.read_sql(feedbackq_Query, db)"
   ]
  },
  {
   "cell_type": "code",
   "execution_count": 3,
   "metadata": {},
   "outputs": [],
   "source": [
    "feedback_new = feedback_df.drop(feedback_df.columns.difference(['feedback_category_id', 'status', 'session_id','is_handoff', 'agent_id', 'created_at']), 1)\n",
    "feedbackm_new = feedbackm_df.drop(feedbackm_df.columns.difference(['feedback_id', 'feedback_question_id', 'feedback_choice_id', 'value', 'created_at']), 1)\n",
    "feedbackcat_new = feedbackcat_df.drop(feedbackcat_df.columns.difference(['id', 'name']), 1)\n",
    "feedbackch_new = feedbackch_df.drop(feedbackch_df.columns.difference(['id', 'label']), 1)\n",
    "feedbackq_new = feedbackq_df.drop(feedbackq_df.columns.difference(['id', 'feedback_category_id', 'question_number']), 1)"
   ]
  },
  {
   "cell_type": "code",
   "execution_count": 4,
   "metadata": {},
   "outputs": [],
   "source": [
    "feedback_new.rename(columns={'feedback_category_id': 'id'}, inplace=True)\n",
    "feedbackmeta = pd.merge(feedback_new, feedbackcat_new, on='id', how='inner')"
   ]
  },
  {
   "cell_type": "code",
   "execution_count": 5,
   "metadata": {},
   "outputs": [],
   "source": [
    "feedbackm_new.rename(columns={'feedback_question_id': 'id'}, inplace=True)\n",
    "feedbackmeta1 = pd.merge(feedbackm_new, feedbackq_new, on='id', how='inner')\n",
    "feedbackmeta1 = feedbackmeta1.drop(['id'], 1)\n",
    "feedbackmeta1.rename(columns={'feedback_choice_id': 'id'}, inplace=True)\n",
    "feedbackmeta2 = feedbackmeta1.merge(feedbackch_new, on='id', how='left')"
   ]
  },
  {
   "cell_type": "code",
   "execution_count": 6,
   "metadata": {},
   "outputs": [],
   "source": [
    "feedbackmeta.insert(loc=2, column='year_month', value=feedbackmeta['created_at'].map(lambda x: 100*x.year + x.month))\n",
    "feedbackmeta.insert(loc=3, column='month', value=feedbackmeta.created_at.dt.month)\n",
    "feedbackmeta.insert(loc=4, column='day', value=feedbackmeta.created_at.dt.dayofweek+1)\n",
    "feedbackmeta.insert(loc=5, column='hour', value=feedbackmeta.created_at.dt.hour)\n",
    "\n",
    "def time(row):\n",
    "    if 4 <= row['hour'] <= 10:\n",
    "        return 'Morning'\n",
    "    if 11 <= row['hour'] <= 16:\n",
    "        return 'Noon'\n",
    "    if 17 <= row['hour'] <= 21:\n",
    "        return 'Evening'\n",
    "    if row['hour'] <= 3 or row['hour'] >= 22:\n",
    "        return 'Night'\n",
    "    else:\n",
    "        return 'No hour'\n",
    "\n",
    "feedbackmeta['time'] = feedbackmeta.apply(lambda row: time(row), axis=1)\n",
    "day_map = {1: 'Monday', 2: 'Tuesday', 3: 'Wednesday', 4: 'Thursday', 5: 'Friday', 6: 'Saturday', 7: 'Sunday'}\n",
    "feedbackmeta['the_day'] = feedbackmeta['day'].map(day_map)\n",
    "\n",
    "feedbackmeta2.insert(loc=2, column='year_month', value=feedbackmeta2['created_at'].map(lambda x: 100*x.year + x.month))\n",
    "feedbackmeta2.insert(loc=3, column='month', value=feedbackmeta2.created_at.dt.month)\n",
    "feedbackmeta2.insert(loc=4, column='day', value=feedbackmeta2.created_at.dt.dayofweek+1)\n",
    "feedbackmeta2.insert(loc=5, column='hour', value=feedbackmeta2.created_at.dt.hour)\n",
    "\n",
    "def time(row):\n",
    "    if 4 <= row['hour'] <= 10:\n",
    "        return 'Morning'\n",
    "    if 11 <= row['hour'] <= 16:\n",
    "        return 'Noon'\n",
    "    if 17 <= row['hour'] <= 21:\n",
    "        return 'Evening'\n",
    "    if row['hour'] <= 3 or row['hour'] >= 22:\n",
    "        return 'Night'\n",
    "    else:\n",
    "        return 'No hour'\n",
    "\n",
    "feedbackmeta2['time'] = feedbackmeta2.apply(lambda row: time(row), axis=1)\n",
    "day_map = {1: 'Monday', 2: 'Tuesday', 3: 'Wednesday', 4: 'Thursday', 5: 'Friday', 6: 'Saturday', 7: 'Sunday'}\n",
    "feedbackmeta2['the_day'] = feedbackmeta2['day'].map(day_map)\n"
   ]
  },
  {
   "cell_type": "code",
   "execution_count": null,
   "metadata": {},
   "outputs": [],
   "source": [
    "start_date = \"2020-03-01 00:00:00\"\n",
    "end_date = \"2020-03-31 23:59:59\"\n",
    "feedbackmeta = feedbackmeta[feedbackmeta.created_at.between(start_date,end_date)]"
   ]
  },
  {
   "cell_type": "code",
   "execution_count": 7,
   "metadata": {},
   "outputs": [],
   "source": [
    "writer = pd.ExcelWriter(\"/Users/AF/Downloads/Mcdo data/feedbacks.xlsx\", engine='xlsxwriter')\n",
    "\n",
    "feedbackmeta.to_excel(writer, sheet_name='mcdo feedbacks')\n",
    "feedbackmeta2.to_excel(writer, sheet_name='feedback meta')\n",
    "\n",
    "writer.save()"
   ]
  },
  {
   "cell_type": "code",
   "execution_count": null,
   "metadata": {},
   "outputs": [],
   "source": []
  }
 ],
 "metadata": {
  "kernelspec": {
   "display_name": "Python 3",
   "language": "python",
   "name": "python3"
  },
  "language_info": {
   "codemirror_mode": {
    "name": "ipython",
    "version": 3
   },
   "file_extension": ".py",
   "mimetype": "text/x-python",
   "name": "python",
   "nbconvert_exporter": "python",
   "pygments_lexer": "ipython3",
   "version": "3.7.4"
  }
 },
 "nbformat": 4,
 "nbformat_minor": 2
}
