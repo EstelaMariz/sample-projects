{
 "cells": [
  {
   "cell_type": "code",
   "execution_count": 1,
   "metadata": {},
   "outputs": [],
   "source": [
    "import requests\n",
    "from pprint import pprint\n",
    "import pandas as pd\n",
    "import pymysql\n",
    "import numpy as np\n",
    "import matplotlib.pyplot as plt\n",
    "import seaborn as sns\n",
    "import uuid\n",
    "sns.set()\n",
    "%matplotlib inline"
   ]
  },
  {
   "cell_type": "code",
   "execution_count": 2,
   "metadata": {},
   "outputs": [],
   "source": [
    "db = pymysql.connect(host='localhost', user='root', database='admin_main', port = 3307, charset='utf8mb4', cursorclass=pymysql.cursors.DictCursor)\n",
    "\n",
    "# Create a cursor object\n",
    "cursorObject = db.cursor()\n",
    "\n",
    "users_Query = \"select * from users\"\n",
    "subscribers_Query =  \"select * from subscribers\"\n",
    "orders_Query = \"select * from orders\"\n",
    "bags_Query = \"select * from bags\"\n",
    "messages_Query = \"select * from messages\"\n",
    "\n",
    "cursorObject.execute(users_Query)\n",
    "cursorObject.execute(subscribers_Query)\n",
    "cursorObject.execute(orders_Query)\n",
    "cursorObject.execute(bags_Query)\n",
    "cursorObject.execute(messages_Query)\n",
    "\n",
    "users_df = pd.read_sql(users_Query, db)\n",
    "subscribers_df = pd.read_sql(subscribers_Query, db)\n",
    "orders_df = pd.read_sql(orders_Query, db)\n",
    "bags_df = pd.read_sql(bags_Query, db)\n",
    "messages_df = pd.read_sql(messages_Query, db)"
   ]
  },
  {
   "cell_type": "code",
   "execution_count": 3,
   "metadata": {},
   "outputs": [],
   "source": [
    "users_new = users_df.drop(users_df.columns.difference(['id', 'subscriber_id', 'created_at']), 1)\n",
    "subscribers_new = subscribers_df.drop(subscribers_df.columns.difference(['id', 'created_at']), 1)\n",
    "orders_new = orders_df.drop(orders_df.columns.difference(['id', 'subscriber_id', 'created_at']), 1)\n",
    "bags_new = bags_df.drop(bags_df.columns.difference(['id', 'subscriber_id', 'created_at']), 1)\n",
    "messages_new = messages_df.drop(messages_df.columns.difference(['sender_id', 'created_at']), 1)"
   ]
  },
  {
   "cell_type": "code",
   "execution_count": 4,
   "metadata": {},
   "outputs": [],
   "source": [
    "messages_new = messages_new[messages_new.sender_id != 0]\n",
    "messages_new['count'] = messages_new.groupby('sender_id').cumcount() + 1"
   ]
  },
  {
   "cell_type": "code",
   "execution_count": null,
   "metadata": {},
   "outputs": [],
   "source": [
    "start_date = '2020-03-01 00:00:00'\n",
    "end_date = '2020-03-31 29:59:59'\n",
    "\n",
    "users_new = users_new[users_new.created_at.between(start_date, end_date)]\n",
    "subscribers_new"
   ]
  },
  {
   "cell_type": "code",
   "execution_count": 5,
   "metadata": {},
   "outputs": [],
   "source": [
    "writer = pd.ExcelWriter(\"/Users/AF/Downloads/Mcdo data/Mcusers.xlsx\", engine='xlsxwriter')\n",
    "\n",
    "users_new.to_excel(writer, sheet_name='Users')\n",
    "subscribers_new.to_excel(writer, sheet_name='Subscribers')\n",
    "orders_new.to_excel(writer, sheet_name='Orders')\n",
    "bags_new.to_excel(writer, sheet_name='Bags')\n",
    "messages_new.to_excel(writer, sheet_name='Active Users')\n",
    "\n",
    "writer.save()"
   ]
  },
  {
   "cell_type": "code",
   "execution_count": null,
   "metadata": {},
   "outputs": [],
   "source": []
  }
 ],
 "metadata": {
  "kernelspec": {
   "display_name": "Python 3",
   "language": "python",
   "name": "python3"
  },
  "language_info": {
   "codemirror_mode": {
    "name": "ipython",
    "version": 3
   },
   "file_extension": ".py",
   "mimetype": "text/x-python",
   "name": "python",
   "nbconvert_exporter": "python",
   "pygments_lexer": "ipython3",
   "version": "3.7.4"
  }
 },
 "nbformat": 4,
 "nbformat_minor": 2
}
