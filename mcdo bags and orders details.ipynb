{
 "cells": [
  {
   "cell_type": "code",
   "execution_count": null,
   "metadata": {},
   "outputs": [],
   "source": [
    "import requests\n",
    "from pprint import pprint\n",
    "import pandas as pd\n",
    "import pymysql\n",
    "import numpy as np\n",
    "import matplotlib.pyplot as plt\n",
    "import seaborn as sns\n",
    "import uuid\n",
    "sns.set()\n",
    "%matplotlib inline"
   ]
  },
  {
   "cell_type": "code",
   "execution_count": null,
   "metadata": {},
   "outputs": [],
   "source": [
    "db = pymysql.connect(host='localhost', user='root', database='admin_main', port = 3307, charset='utf8mb4', cursorclass=pymysql.cursors.DictCursor)\n",
    "\n",
    "# Create a cursor object\n",
    "cursorObject = db.cursor()\n",
    "\n",
    "bags_Query = \"select * from bags\"\n",
    "orders_Query = \"select * from orders\"\n",
    "bagsent_Query =  \"select * from bags_entries\"\n",
    "bagsentdet_Query = \"select * from bags_entry_details\"\n",
    "ordersent_Query = \"select * from orders_entries\"\n",
    "ordersentdet_Query = \"select * from orders_entry_details\"\n",
    "\n",
    "cursorObject.execute(bags_Query)\n",
    "cursorObject.execute(orders_Query)\n",
    "cursorObject.execute(bagsent_Query)\n",
    "cursorObject.execute(bagsentdet_Query)\n",
    "cursorObject.execute(ordersent_Query)\n",
    "cursorObject.execute(ordersentdet_Query)\n",
    "\n",
    "bags_df = pd.read_sql(bags_Query, db)\n",
    "orders_df = pd.read_sql(orders_Query, db)\n",
    "bagsent_df = pd.read_sql(bagsent_Query, db)\n",
    "bagsentdet_df = pd.read_sql(bagsentdet_Query, db)\n",
    "ordersent_df = pd.read_sql(ordersent_Query, db)\n",
    "ordersentdet_df = pd.read_sql(ordersentdet_Query, db)"
   ]
  },
  {
   "cell_type": "code",
   "execution_count": null,
   "metadata": {},
   "outputs": [],
   "source": [
    "bags_new = bags_df.drop(bags_df.columns.difference(['id', 'subscriber_id', 'created_at']), 1)\n",
    "orders_new = orders_df.drop(orders_df.columns.difference(['id', 'subscriber_id', 'created_at']), 1)\n",
    "bagsent_new = bagsent_df.drop(bagsent_df.columns.difference(['id', 'bag_id', 'item_id', 'quantity', 'created_at']), 1)\n",
    "bagsentdet_new = bagsentdet_df.drop(bagsentdet_df.columns.difference(['bag_entry_id', 'type', 'pos_code']), 1)\n",
    "                                                                                                                                         \n",
    "ordersent_new = ordersent_df.drop(ordersent_df.columns.difference(['id', 'order_id', 'item_id', 'created_at']), 1)\n",
    "ordersentdet_new = ordersentdet_df.drop(ordersentdet_df.columns.difference(['order_entry_id', 'type', 'pos_code', 'price', 'quantity']), 1)\n",
    "\n",
    "ordersentdet_new.shape"
   ]
  },
  {
   "cell_type": "code",
   "execution_count": null,
   "metadata": {},
   "outputs": [],
   "source": [
    "bags_new.rename(columns={'id': 'bag_id'}, inplace=True)\n",
    "orders_new.rename(columns={'id': 'order_id'}, inplace=True)\n",
    "bagsentdet_new.rename(columns={'bag_entry_id': 'id'}, inplace=True)\n",
    "ordersentdet_new.rename(columns={'order_entry_id': 'id'}, inplace=True)\n",
    "\n",
    "bags = pd.merge(bagsent_new, bags_new, on='bag_id', how='inner')\n",
    "bags2 = pd.merge(bagsentdet_new, bags, on='id', how='inner')\n",
    "orders = pd.merge(ordersent_new, orders_new, on='order_id', how='inner')\n",
    "orders2 = pd.merge(ordersentdet_new, orders, on='id', how='inner')\n",
    "orders2.shape"
   ]
  },
  {
   "cell_type": "code",
   "execution_count": null,
   "metadata": {},
   "outputs": [],
   "source": [
    "with_variance = ordersentdet_df.drop(ordersentdet_df.columns.difference(['type', 'name', 'price', 'quantity', 'created_at']), 1)\n",
    "with_variance = with_variance[with_variance.type!='variance']"
   ]
  },
  {
   "cell_type": "code",
   "execution_count": null,
   "metadata": {},
   "outputs": [],
   "source": [
    "start_date = \"2020-03-01 00:00:00\"\n",
    "end_date = \"2020-03-31 23:59:59\"\n",
    "bags_new = bags_new[bags_new.created_at.between(start_date,end_date)]"
   ]
  },
  {
   "cell_type": "code",
   "execution_count": null,
   "metadata": {},
   "outputs": [],
   "source": [
    "writer = pd.ExcelWriter(\"/Users/AF/Downloads/Mcdo data/Mc messages, bags & orders.xlsx\", engine='xlsxwriter')\n",
    "\n",
    "bags_new.to_excel(writer, sheet_name='Bag Count')\n",
    "bagsent_new.to_excel(writer, sheet_name='Bags')\n",
    "orders2.to_excel(writer, sheet_name='Orders')\n",
    "\n",
    "writer.save()"
   ]
  },
  {
   "cell_type": "code",
   "execution_count": null,
   "metadata": {},
   "outputs": [],
   "source": []
  }
 ],
 "metadata": {
  "kernelspec": {
   "display_name": "Python 3",
   "language": "python",
   "name": "python3"
  },
  "language_info": {
   "codemirror_mode": {
    "name": "ipython",
    "version": 3
   },
   "file_extension": ".py",
   "mimetype": "text/x-python",
   "name": "python",
   "nbconvert_exporter": "python",
   "pygments_lexer": "ipython3",
   "version": "3.7.4"
  }
 },
 "nbformat": 4,
 "nbformat_minor": 2
}
