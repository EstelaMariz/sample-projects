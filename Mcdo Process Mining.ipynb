{
 "cells": [
  {
   "cell_type": "code",
   "execution_count": 1,
   "metadata": {},
   "outputs": [],
   "source": [
    "import requests\n",
    "from pprint import pprint\n",
    "import pandas as pd\n",
    "import pymysql\n",
    "import numpy as np\n",
    "import matplotlib.pyplot as plt\n",
    "import seaborn as sns\n",
    "import uuid\n",
    "sns.set()\n",
    "%matplotlib inline"
   ]
  },
  {
   "cell_type": "code",
   "execution_count": 6,
   "metadata": {},
   "outputs": [],
   "source": [
    "db = pymysql.connect(host='localhost', user='root', database='admin_main', port = 3307, charset='utf8mb4', cursorclass=pymysql.cursors.DictCursor)\n",
    "\n",
    "# Create a cursor object\n",
    "cursorObject = db.cursor()\n",
    "\n",
    "messages_Query = \"select * from messages\"\n",
    "messages_meta_Query =  \"select * from messages_meta\"\n",
    "order_Query = \"select * from orders\"\n",
    "\n",
    "cursorObject.execute(messages_Query)\n",
    "cursorObject.execute(messages_meta_Query)\n",
    "cursorObject.execute(order_Query)\n",
    "\n",
    "messages_df = pd.read_sql(messages_Query, db)\n",
    "messages_meta_df = pd.read_sql(messages_meta_Query, db)\n",
    "order_df = pd.read_sql(order_Query, db)"
   ]
  },
  {
   "cell_type": "code",
   "execution_count": 7,
   "metadata": {},
   "outputs": [],
   "source": [
    "messages_new = messages_df.drop(messages_df.columns.difference(['id', 'conversation_id', 'session_id','recipient_id', 'sender_id', 'type', 'created_at', 'updated_at']), 1)\n",
    "messagesmeta_new = messages_meta_df.drop(messages_meta_df.columns.difference(['message_id', 'value']), 1)\n",
    "order_new = order_df.drop(order_df.columns.difference(['subscriber_id','status', 'created_at' 'updated_at']), 1)\n"
   ]
  },
  {
   "cell_type": "code",
   "execution_count": 8,
   "metadata": {},
   "outputs": [],
   "source": [
    "import ast\n",
    "messagesmeta_new.rename(columns={'message_id': 'id'}, inplace=True)\n",
    "\n",
    "messages = pd.merge(messagesmeta_new,messages_new, on='id', how='inner')\n",
    "\n",
    "messages_new = messages[messages.recipient_id == 0]\n",
    "messages_new = messages_new[messages_new.type == 'postback']\n",
    "\n",
    "messages_new['value']=messages_new['value'].apply(ast.literal_eval)\n",
    "\n",
    "# c = 1\n",
    "# for k in messages_new.value:\n",
    "#     messages_new['new_value'] = k[c]['title']\n",
    "#     c+=1\n",
    "\n",
    "messages_new['payload'] = [d.get('payload') for d in messages_new.value]\n",
    "messages_new['title'] = [d.get('title') for d in messages_new.value]\n",
    "\n",
    "# Slice by Date and Activities\n",
    "\n",
    "start_date = \"2019-11-01 00:00:00\"\n",
    "end_date = \"2019-11-30 23:59:59\"\n",
    "messages_new = messages_new[messages_new.created_at.between(start_date, end_date)]\n",
    "\n",
    "# list = ['Get Started', 'Continue', 'Add More Products', 'Add to My Bag']\n",
    "\n",
    "# messages_new = messages_new[messages_new['new_value'].isin(list)]"
   ]
  },
  {
   "cell_type": "code",
   "execution_count": null,
   "metadata": {},
   "outputs": [],
   "source": [
    "writer = pd.ExcelWriter(\"/Users/AF/Downloads/Mcdo data/mcdo_processmining.xlsx\", engine='xlsxwriter')\n",
    "\n",
    "messages_new.to_excel(writer, sheet_name='mcdo')\n",
    "\n",
    "writer.save()"
   ]
  },
  {
   "cell_type": "code",
   "execution_count": null,
   "metadata": {},
   "outputs": [],
   "source": []
  }
 ],
 "metadata": {
  "kernelspec": {
   "display_name": "Python 3",
   "language": "python",
   "name": "python3"
  },
  "language_info": {
   "codemirror_mode": {
    "name": "ipython",
    "version": 3
   },
   "file_extension": ".py",
   "mimetype": "text/x-python",
   "name": "python",
   "nbconvert_exporter": "python",
   "pygments_lexer": "ipython3",
   "version": "3.7.4"
  }
 },
 "nbformat": 4,
 "nbformat_minor": 2
}
